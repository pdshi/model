{
  "nbformat": 4,
  "nbformat_minor": 0,
  "metadata": {
    "colab": {
      "provenance": [],
      "collapsed_sections": [
        "sFArpprDsK-H",
        "P9eYj43xtBWE",
        "KdbNP9bKtFkx",
        "YzQiljW8tMuR",
        "uAIiU10XGuLr",
        "hVrmO0HGv0Q4"
      ]
    },
    "kernelspec": {
      "name": "python3",
      "display_name": "Python 3"
    },
    "language_info": {
      "name": "python"
    }
  },
  "cells": [
    {
      "cell_type": "markdown",
      "source": [
        "#dependencies, database, and nested function\n"
      ],
      "metadata": {
        "id": "sFArpprDsK-H"
      }
    },
    {
      "cell_type": "markdown",
      "source": [
        "##dependencies"
      ],
      "metadata": {
        "id": "P9eYj43xtBWE"
      }
    },
    {
      "cell_type": "code",
      "source": [
        "#before running install Capability Classifier.keras (a dependencies) first in content \n",
        "from google.colab import files\n",
        "files.upload()"
      ],
      "metadata": {
        "id": "L3jOvMdgmzT8"
      },
      "execution_count": null,
      "outputs": []
    },
    {
      "cell_type": "code",
      "source": [
        "pip install tf-models-nightly "
      ],
      "metadata": {
        "colab": {
          "base_uri": "https://localhost:8080/",
          "height": 1000
        },
        "id": "UWLg_qzFmqVa",
        "outputId": "ebf22904-3603-4428-e79e-7a30b39b9f70"
      },
      "execution_count": null,
      "outputs": [
        {
          "output_type": "stream",
          "name": "stdout",
          "text": [
            "Looking in indexes: https://pypi.org/simple, https://us-python.pkg.dev/colab-wheels/public/simple/\n",
            "Collecting tf-models-nightly\n",
            "  Downloading tf_models_nightly-2.12.0.dev20230601-py2.py3-none-any.whl (2.6 MB)\n",
            "\u001b[2K     \u001b[90m━━━━━━━━━━━━━━━━━━━━━━━━━━━━━━━━━━━━━━━━\u001b[0m \u001b[32m2.6/2.6 MB\u001b[0m \u001b[31m30.1 MB/s\u001b[0m eta \u001b[36m0:00:00\u001b[0m\n",
            "\u001b[?25hRequirement already satisfied: Cython in /usr/local/lib/python3.10/dist-packages (from tf-models-nightly) (0.29.34)\n",
            "Requirement already satisfied: Pillow in /usr/local/lib/python3.10/dist-packages (from tf-models-nightly) (8.4.0)\n",
            "Requirement already satisfied: gin-config in /usr/local/lib/python3.10/dist-packages (from tf-models-nightly) (0.5.0)\n",
            "Requirement already satisfied: google-api-python-client>=1.6.7 in /usr/local/lib/python3.10/dist-packages (from tf-models-nightly) (2.84.0)\n",
            "Collecting immutabledict (from tf-models-nightly)\n",
            "  Downloading immutabledict-2.2.4-py3-none-any.whl (4.1 kB)\n",
            "Requirement already satisfied: kaggle>=1.3.9 in /usr/local/lib/python3.10/dist-packages (from tf-models-nightly) (1.5.13)\n",
            "Requirement already satisfied: matplotlib in /usr/local/lib/python3.10/dist-packages (from tf-models-nightly) (3.7.1)\n",
            "Requirement already satisfied: numpy>=1.20 in /usr/local/lib/python3.10/dist-packages (from tf-models-nightly) (1.22.4)\n",
            "Requirement already satisfied: oauth2client in /usr/local/lib/python3.10/dist-packages (from tf-models-nightly) (4.1.3)\n",
            "Requirement already satisfied: opencv-python-headless in /usr/local/lib/python3.10/dist-packages (from tf-models-nightly) (4.7.0.72)\n",
            "Requirement already satisfied: pandas>=0.22.0 in /usr/local/lib/python3.10/dist-packages (from tf-models-nightly) (1.5.3)\n",
            "Requirement already satisfied: psutil>=5.4.3 in /usr/local/lib/python3.10/dist-packages (from tf-models-nightly) (5.9.5)\n",
            "Requirement already satisfied: py-cpuinfo>=3.3.0 in /usr/local/lib/python3.10/dist-packages (from tf-models-nightly) (9.0.0)\n",
            "Requirement already satisfied: pycocotools in /usr/local/lib/python3.10/dist-packages (from tf-models-nightly) (2.0.6)\n",
            "Collecting pyyaml<6.0,>=5.1 (from tf-models-nightly)\n",
            "  Downloading PyYAML-5.4.1.tar.gz (175 kB)\n",
            "\u001b[2K     \u001b[90m━━━━━━━━━━━━━━━━━━━━━━━━━━━━━━━━━━━━━━\u001b[0m \u001b[32m175.1/175.1 kB\u001b[0m \u001b[31m22.7 MB/s\u001b[0m eta \u001b[36m0:00:00\u001b[0m\n",
            "\u001b[?25h  Installing build dependencies ... \u001b[?25l\u001b[?25hdone\n",
            "  Getting requirements to build wheel ... \u001b[?25l\u001b[?25hdone\n",
            "  Preparing metadata (pyproject.toml) ... \u001b[?25l\u001b[?25hdone\n",
            "Collecting sacrebleu (from tf-models-nightly)\n",
            "  Downloading sacrebleu-2.3.1-py3-none-any.whl (118 kB)\n",
            "\u001b[2K     \u001b[90m━━━━━━━━━━━━━━━━━━━━━━━━━━━━━━━━━━━━━━\u001b[0m \u001b[32m118.9/118.9 kB\u001b[0m \u001b[31m19.1 MB/s\u001b[0m eta \u001b[36m0:00:00\u001b[0m\n",
            "\u001b[?25hRequirement already satisfied: scipy>=0.19.1 in /usr/local/lib/python3.10/dist-packages (from tf-models-nightly) (1.10.1)\n",
            "Collecting sentencepiece (from tf-models-nightly)\n",
            "  Downloading sentencepiece-0.1.99-cp310-cp310-manylinux_2_17_x86_64.manylinux2014_x86_64.whl (1.3 MB)\n",
            "\u001b[2K     \u001b[90m━━━━━━━━━━━━━━━━━━━━━━━━━━━━━━━━━━━━━━━━\u001b[0m \u001b[32m1.3/1.3 MB\u001b[0m \u001b[31m94.3 MB/s\u001b[0m eta \u001b[36m0:00:00\u001b[0m\n",
            "\u001b[?25hCollecting seqeval (from tf-models-nightly)\n",
            "  Downloading seqeval-1.2.2.tar.gz (43 kB)\n",
            "\u001b[2K     \u001b[90m━━━━━━━━━━━━━━━━━━━━━━━━━━━━━━━━━━━━━━━━\u001b[0m \u001b[32m43.6/43.6 kB\u001b[0m \u001b[31m6.6 MB/s\u001b[0m eta \u001b[36m0:00:00\u001b[0m\n",
            "\u001b[?25h  Preparing metadata (setup.py) ... \u001b[?25l\u001b[?25hdone\n",
            "Requirement already satisfied: six in /usr/local/lib/python3.10/dist-packages (from tf-models-nightly) (1.16.0)\n",
            "Requirement already satisfied: tensorflow-datasets in /usr/local/lib/python3.10/dist-packages (from tf-models-nightly) (4.9.2)\n",
            "Requirement already satisfied: tensorflow-hub>=0.6.0 in /usr/local/lib/python3.10/dist-packages (from tf-models-nightly) (0.13.0)\n",
            "Collecting tensorflow-model-optimization>=0.4.1 (from tf-models-nightly)\n",
            "  Downloading tensorflow_model_optimization-0.7.5-py2.py3-none-any.whl (241 kB)\n",
            "\u001b[2K     \u001b[90m━━━━━━━━━━━━━━━━━━━━━━━━━━━━━━━━━━━━━━\u001b[0m \u001b[32m241.2/241.2 kB\u001b[0m \u001b[31m27.4 MB/s\u001b[0m eta \u001b[36m0:00:00\u001b[0m\n",
            "\u001b[?25hCollecting tensorflow-text-nightly (from tf-models-nightly)\n",
            "  Downloading tensorflow_text_nightly-2.14.0.dev20230601-cp310-cp310-manylinux_2_17_x86_64.manylinux2014_x86_64.whl (6.5 MB)\n",
            "\u001b[2K     \u001b[90m━━━━━━━━━━━━━━━━━━━━━━━━━━━━━━━━━━━━━━━━\u001b[0m \u001b[32m6.5/6.5 MB\u001b[0m \u001b[31m117.6 MB/s\u001b[0m eta \u001b[36m0:00:00\u001b[0m\n",
            "\u001b[?25hCollecting tf-nightly (from tf-models-nightly)\n",
            "  Downloading tf_nightly-2.14.0.dev20230602-cp310-cp310-manylinux_2_17_x86_64.manylinux2014_x86_64.whl (488.9 MB)\n",
            "\u001b[2K     \u001b[90m━━━━━━━━━━━━━━━━━━━━━━━━━━━━━━━━━━━━━━━\u001b[0m \u001b[32m488.9/488.9 MB\u001b[0m \u001b[31m3.7 MB/s\u001b[0m eta \u001b[36m0:00:00\u001b[0m\n",
            "\u001b[?25hRequirement already satisfied: tf-slim>=1.1.0 in /usr/local/lib/python3.10/dist-packages (from tf-models-nightly) (1.1.0)\n",
            "Requirement already satisfied: httplib2<1dev,>=0.15.0 in /usr/local/lib/python3.10/dist-packages (from google-api-python-client>=1.6.7->tf-models-nightly) (0.21.0)\n",
            "Requirement already satisfied: google-auth<3.0.0dev,>=1.19.0 in /usr/local/lib/python3.10/dist-packages (from google-api-python-client>=1.6.7->tf-models-nightly) (2.17.3)\n",
            "Requirement already satisfied: google-auth-httplib2>=0.1.0 in /usr/local/lib/python3.10/dist-packages (from google-api-python-client>=1.6.7->tf-models-nightly) (0.1.0)\n",
            "Requirement already satisfied: google-api-core!=2.0.*,!=2.1.*,!=2.2.*,!=2.3.0,<3.0.0dev,>=1.31.5 in /usr/local/lib/python3.10/dist-packages (from google-api-python-client>=1.6.7->tf-models-nightly) (2.11.0)\n",
            "Requirement already satisfied: uritemplate<5,>=3.0.1 in /usr/local/lib/python3.10/dist-packages (from google-api-python-client>=1.6.7->tf-models-nightly) (4.1.1)\n",
            "Requirement already satisfied: certifi in /usr/local/lib/python3.10/dist-packages (from kaggle>=1.3.9->tf-models-nightly) (2022.12.7)\n",
            "Requirement already satisfied: python-dateutil in /usr/local/lib/python3.10/dist-packages (from kaggle>=1.3.9->tf-models-nightly) (2.8.2)\n",
            "Requirement already satisfied: requests in /usr/local/lib/python3.10/dist-packages (from kaggle>=1.3.9->tf-models-nightly) (2.27.1)\n",
            "Requirement already satisfied: tqdm in /usr/local/lib/python3.10/dist-packages (from kaggle>=1.3.9->tf-models-nightly) (4.65.0)\n",
            "Requirement already satisfied: python-slugify in /usr/local/lib/python3.10/dist-packages (from kaggle>=1.3.9->tf-models-nightly) (8.0.1)\n",
            "Requirement already satisfied: urllib3 in /usr/local/lib/python3.10/dist-packages (from kaggle>=1.3.9->tf-models-nightly) (1.26.15)\n",
            "Requirement already satisfied: pytz>=2020.1 in /usr/local/lib/python3.10/dist-packages (from pandas>=0.22.0->tf-models-nightly) (2022.7.1)\n",
            "Requirement already satisfied: protobuf>=3.19.6 in /usr/local/lib/python3.10/dist-packages (from tensorflow-hub>=0.6.0->tf-models-nightly) (3.20.3)\n",
            "Requirement already satisfied: absl-py~=1.2 in /usr/local/lib/python3.10/dist-packages (from tensorflow-model-optimization>=0.4.1->tf-models-nightly) (1.4.0)\n",
            "Requirement already satisfied: dm-tree~=0.1.1 in /usr/local/lib/python3.10/dist-packages (from tensorflow-model-optimization>=0.4.1->tf-models-nightly) (0.1.8)\n",
            "Collecting numpy>=1.20 (from tf-models-nightly)\n",
            "  Downloading numpy-1.24.3-cp310-cp310-manylinux_2_17_x86_64.manylinux2014_x86_64.whl (17.3 MB)\n",
            "\u001b[2K     \u001b[90m━━━━━━━━━━━━━━━━━━━━━━━━━━━━━━━━━━━━━━━━\u001b[0m \u001b[32m17.3/17.3 MB\u001b[0m \u001b[31m89.0 MB/s\u001b[0m eta \u001b[36m0:00:00\u001b[0m\n",
            "\u001b[?25hRequirement already satisfied: contourpy>=1.0.1 in /usr/local/lib/python3.10/dist-packages (from matplotlib->tf-models-nightly) (1.0.7)\n",
            "Requirement already satisfied: cycler>=0.10 in /usr/local/lib/python3.10/dist-packages (from matplotlib->tf-models-nightly) (0.11.0)\n",
            "Requirement already satisfied: fonttools>=4.22.0 in /usr/local/lib/python3.10/dist-packages (from matplotlib->tf-models-nightly) (4.39.3)\n",
            "Requirement already satisfied: kiwisolver>=1.0.1 in /usr/local/lib/python3.10/dist-packages (from matplotlib->tf-models-nightly) (1.4.4)\n",
            "Requirement already satisfied: packaging>=20.0 in /usr/local/lib/python3.10/dist-packages (from matplotlib->tf-models-nightly) (23.1)\n",
            "Requirement already satisfied: pyparsing>=2.3.1 in /usr/local/lib/python3.10/dist-packages (from matplotlib->tf-models-nightly) (3.0.9)\n",
            "Requirement already satisfied: pyasn1>=0.1.7 in /usr/local/lib/python3.10/dist-packages (from oauth2client->tf-models-nightly) (0.5.0)\n",
            "Requirement already satisfied: pyasn1-modules>=0.0.5 in /usr/local/lib/python3.10/dist-packages (from oauth2client->tf-models-nightly) (0.3.0)\n",
            "Requirement already satisfied: rsa>=3.1.4 in /usr/local/lib/python3.10/dist-packages (from oauth2client->tf-models-nightly) (4.9)\n",
            "Collecting portalocker (from sacrebleu->tf-models-nightly)\n",
            "  Downloading portalocker-2.7.0-py2.py3-none-any.whl (15 kB)\n",
            "Requirement already satisfied: regex in /usr/local/lib/python3.10/dist-packages (from sacrebleu->tf-models-nightly) (2022.10.31)\n",
            "Requirement already satisfied: tabulate>=0.8.9 in /usr/local/lib/python3.10/dist-packages (from sacrebleu->tf-models-nightly) (0.8.10)\n",
            "Collecting colorama (from sacrebleu->tf-models-nightly)\n",
            "  Downloading colorama-0.4.6-py2.py3-none-any.whl (25 kB)\n",
            "Requirement already satisfied: lxml in /usr/local/lib/python3.10/dist-packages (from sacrebleu->tf-models-nightly) (4.9.2)\n",
            "Requirement already satisfied: scikit-learn>=0.21.3 in /usr/local/lib/python3.10/dist-packages (from seqeval->tf-models-nightly) (1.2.2)\n",
            "Requirement already satisfied: array-record in /usr/local/lib/python3.10/dist-packages (from tensorflow-datasets->tf-models-nightly) (0.2.0)\n",
            "Requirement already satisfied: click in /usr/local/lib/python3.10/dist-packages (from tensorflow-datasets->tf-models-nightly) (8.1.3)\n",
            "Requirement already satisfied: etils[enp,epath]>=0.9.0 in /usr/local/lib/python3.10/dist-packages (from tensorflow-datasets->tf-models-nightly) (1.2.0)\n",
            "Requirement already satisfied: promise in /usr/local/lib/python3.10/dist-packages (from tensorflow-datasets->tf-models-nightly) (2.3)\n",
            "Requirement already satisfied: tensorflow-metadata in /usr/local/lib/python3.10/dist-packages (from tensorflow-datasets->tf-models-nightly) (1.13.1)\n",
            "Requirement already satisfied: termcolor in /usr/local/lib/python3.10/dist-packages (from tensorflow-datasets->tf-models-nightly) (2.3.0)\n",
            "Requirement already satisfied: toml in /usr/local/lib/python3.10/dist-packages (from tensorflow-datasets->tf-models-nightly) (0.10.2)\n",
            "Requirement already satisfied: wrapt in /usr/local/lib/python3.10/dist-packages (from tensorflow-datasets->tf-models-nightly) (1.14.1)\n",
            "Requirement already satisfied: astunparse>=1.6.0 in /usr/local/lib/python3.10/dist-packages (from tf-nightly->tf-models-nightly) (1.6.3)\n",
            "Collecting flatbuffers>=23.5.8 (from tf-nightly->tf-models-nightly)\n",
            "  Downloading flatbuffers-23.5.26-py2.py3-none-any.whl (26 kB)\n",
            "Requirement already satisfied: gast<=0.4.0,>=0.2.1 in /usr/local/lib/python3.10/dist-packages (from tf-nightly->tf-models-nightly) (0.4.0)\n",
            "Requirement already satisfied: google-pasta>=0.1.1 in /usr/local/lib/python3.10/dist-packages (from tf-nightly->tf-models-nightly) (0.2.0)\n",
            "Requirement already satisfied: grpcio<2.0,>=1.24.3 in /usr/local/lib/python3.10/dist-packages (from tf-nightly->tf-models-nightly) (1.54.0)\n",
            "Requirement already satisfied: h5py>=2.9.0 in /usr/local/lib/python3.10/dist-packages (from tf-nightly->tf-models-nightly) (3.8.0)\n",
            "Collecting keras-nightly~=2.14.0.dev (from tf-nightly->tf-models-nightly)\n",
            "  Downloading keras_nightly-2.14.0.dev2023060107-py3-none-any.whl (1.7 MB)\n",
            "\u001b[2K     \u001b[90m━━━━━━━━━━━━━━━━━━━━━━━━━━━━━━━━━━━━━━━━\u001b[0m \u001b[32m1.7/1.7 MB\u001b[0m \u001b[31m104.6 MB/s\u001b[0m eta \u001b[36m0:00:00\u001b[0m\n",
            "\u001b[?25hRequirement already satisfied: libclang>=13.0.0 in /usr/local/lib/python3.10/dist-packages (from tf-nightly->tf-models-nightly) (16.0.0)\n",
            "Requirement already satisfied: opt-einsum>=2.3.2 in /usr/local/lib/python3.10/dist-packages (from tf-nightly->tf-models-nightly) (3.3.0)\n",
            "Requirement already satisfied: setuptools in /usr/local/lib/python3.10/dist-packages (from tf-nightly->tf-models-nightly) (67.7.2)\n",
            "Collecting tb-nightly~=2.14.0.a (from tf-nightly->tf-models-nightly)\n",
            "  Downloading tb_nightly-2.14.0a20230602-py3-none-any.whl (5.6 MB)\n",
            "\u001b[2K     \u001b[90m━━━━━━━━━━━━━━━━━━━━━━━━━━━━━━━━━━━━━━━━\u001b[0m \u001b[32m5.6/5.6 MB\u001b[0m \u001b[31m119.1 MB/s\u001b[0m eta \u001b[36m0:00:00\u001b[0m\n",
            "\u001b[?25hCollecting tf-estimator-nightly~=2.14.0.dev (from tf-nightly->tf-models-nightly)\n",
            "  Downloading tf_estimator_nightly-2.14.0.dev2023060108-py2.py3-none-any.whl (440 kB)\n",
            "\u001b[2K     \u001b[90m━━━━━━━━━━━━━━━━━━━━━━━━━━━━━━━━━━━━━━\u001b[0m \u001b[32m441.0/441.0 kB\u001b[0m \u001b[31m43.8 MB/s\u001b[0m eta \u001b[36m0:00:00\u001b[0m\n",
            "\u001b[?25hRequirement already satisfied: typing-extensions<4.6.0,>=3.6.6 in /usr/local/lib/python3.10/dist-packages (from tf-nightly->tf-models-nightly) (4.5.0)\n",
            "Requirement already satisfied: tensorflow-io-gcs-filesystem>=0.23.1 in /usr/local/lib/python3.10/dist-packages (from tf-nightly->tf-models-nightly) (0.32.0)\n",
            "Requirement already satisfied: wheel<1.0,>=0.23.0 in /usr/local/lib/python3.10/dist-packages (from astunparse>=1.6.0->tf-nightly->tf-models-nightly) (0.40.0)\n",
            "Requirement already satisfied: importlib_resources in /usr/local/lib/python3.10/dist-packages (from etils[enp,epath]>=0.9.0->tensorflow-datasets->tf-models-nightly) (5.12.0)\n",
            "Requirement already satisfied: zipp in /usr/local/lib/python3.10/dist-packages (from etils[enp,epath]>=0.9.0->tensorflow-datasets->tf-models-nightly) (3.15.0)\n",
            "Requirement already satisfied: googleapis-common-protos<2.0dev,>=1.56.2 in /usr/local/lib/python3.10/dist-packages (from google-api-core!=2.0.*,!=2.1.*,!=2.2.*,!=2.3.0,<3.0.0dev,>=1.31.5->google-api-python-client>=1.6.7->tf-models-nightly) (1.59.0)\n",
            "Requirement already satisfied: cachetools<6.0,>=2.0.0 in /usr/local/lib/python3.10/dist-packages (from google-auth<3.0.0dev,>=1.19.0->google-api-python-client>=1.6.7->tf-models-nightly) (5.3.0)\n",
            "Requirement already satisfied: charset-normalizer~=2.0.0 in /usr/local/lib/python3.10/dist-packages (from requests->kaggle>=1.3.9->tf-models-nightly) (2.0.12)\n",
            "Requirement already satisfied: idna<4,>=2.5 in /usr/local/lib/python3.10/dist-packages (from requests->kaggle>=1.3.9->tf-models-nightly) (3.4)\n",
            "Requirement already satisfied: joblib>=1.1.1 in /usr/local/lib/python3.10/dist-packages (from scikit-learn>=0.21.3->seqeval->tf-models-nightly) (1.2.0)\n",
            "Requirement already satisfied: threadpoolctl>=2.0.0 in /usr/local/lib/python3.10/dist-packages (from scikit-learn>=0.21.3->seqeval->tf-models-nightly) (3.1.0)\n",
            "Requirement already satisfied: google-auth-oauthlib<1.1,>=0.5 in /usr/local/lib/python3.10/dist-packages (from tb-nightly~=2.14.0.a->tf-nightly->tf-models-nightly) (1.0.0)\n",
            "Requirement already satisfied: markdown>=2.6.8 in /usr/local/lib/python3.10/dist-packages (from tb-nightly~=2.14.0.a->tf-nightly->tf-models-nightly) (3.4.3)\n",
            "Requirement already satisfied: tensorboard-data-server<0.8.0,>=0.7.0 in /usr/local/lib/python3.10/dist-packages (from tb-nightly~=2.14.0.a->tf-nightly->tf-models-nightly) (0.7.0)\n",
            "Requirement already satisfied: werkzeug>=1.0.1 in /usr/local/lib/python3.10/dist-packages (from tb-nightly~=2.14.0.a->tf-nightly->tf-models-nightly) (2.3.0)\n",
            "Requirement already satisfied: text-unidecode>=1.3 in /usr/local/lib/python3.10/dist-packages (from python-slugify->kaggle>=1.3.9->tf-models-nightly) (1.3)\n",
            "Requirement already satisfied: requests-oauthlib>=0.7.0 in /usr/local/lib/python3.10/dist-packages (from google-auth-oauthlib<1.1,>=0.5->tb-nightly~=2.14.0.a->tf-nightly->tf-models-nightly) (1.3.1)\n",
            "Requirement already satisfied: MarkupSafe>=2.1.1 in /usr/local/lib/python3.10/dist-packages (from werkzeug>=1.0.1->tb-nightly~=2.14.0.a->tf-nightly->tf-models-nightly) (2.1.2)\n",
            "Requirement already satisfied: oauthlib>=3.0.0 in /usr/local/lib/python3.10/dist-packages (from requests-oauthlib>=0.7.0->google-auth-oauthlib<1.1,>=0.5->tb-nightly~=2.14.0.a->tf-nightly->tf-models-nightly) (3.2.2)\n",
            "Building wheels for collected packages: pyyaml, seqeval\n",
            "  Building wheel for pyyaml (pyproject.toml) ... \u001b[?25l\u001b[?25hdone\n",
            "  Created wheel for pyyaml: filename=PyYAML-5.4.1-cp310-cp310-linux_x86_64.whl size=45658 sha256=47bf726ed3490e2d5118f3a95a3a7bdd4d0aceb8d3b4997153e1ae4e0ac5de4b\n",
            "  Stored in directory: /root/.cache/pip/wheels/c7/0d/22/696ee92245ad710f506eee79bb05c740d8abccd3ecdb778683\n",
            "  Building wheel for seqeval (setup.py) ... \u001b[?25l\u001b[?25hdone\n",
            "  Created wheel for seqeval: filename=seqeval-1.2.2-py3-none-any.whl size=16165 sha256=3991bddebac23b7e7d94fcaf78bbf77415c2b5c2e7ffebf5f0f7d0bf0adda269\n",
            "  Stored in directory: /root/.cache/pip/wheels/1a/67/4a/ad4082dd7dfc30f2abfe4d80a2ed5926a506eb8a972b4767fa\n",
            "Successfully built pyyaml seqeval\n",
            "Installing collected packages: sentencepiece, flatbuffers, tf-estimator-nightly, pyyaml, portalocker, numpy, keras-nightly, immutabledict, colorama, tensorflow-model-optimization, sacrebleu, tensorflow-text-nightly, tb-nightly, seqeval, tf-nightly, tf-models-nightly\n",
            "  Attempting uninstall: flatbuffers\n",
            "    Found existing installation: flatbuffers 23.3.3\n",
            "    Uninstalling flatbuffers-23.3.3:\n",
            "      Successfully uninstalled flatbuffers-23.3.3\n",
            "  Attempting uninstall: pyyaml\n",
            "    Found existing installation: PyYAML 6.0\n",
            "    Uninstalling PyYAML-6.0:\n",
            "      Successfully uninstalled PyYAML-6.0\n",
            "  Attempting uninstall: numpy\n",
            "    Found existing installation: numpy 1.22.4\n",
            "    Uninstalling numpy-1.22.4:\n",
            "      Successfully uninstalled numpy-1.22.4\n",
            "\u001b[31mERROR: pip's dependency resolver does not currently take into account all the packages that are installed. This behaviour is the source of the following dependency conflicts.\n",
            "numba 0.56.4 requires numpy<1.24,>=1.18, but you have numpy 1.24.3 which is incompatible.\n",
            "tensorflow 2.12.0 requires numpy<1.24,>=1.22, but you have numpy 1.24.3 which is incompatible.\u001b[0m\u001b[31m\n",
            "\u001b[0mSuccessfully installed colorama-0.4.6 flatbuffers-23.5.26 immutabledict-2.2.4 keras-nightly-2.14.0.dev2023060107 numpy-1.24.3 portalocker-2.7.0 pyyaml-5.4.1 sacrebleu-2.3.1 sentencepiece-0.1.99 seqeval-1.2.2 tb-nightly-2.14.0a20230602 tensorflow-model-optimization-0.7.5 tensorflow-text-nightly-2.14.0.dev20230601 tf-estimator-nightly-2.14.0.dev2023060108 tf-models-nightly-2.12.0.dev20230601 tf-nightly-2.14.0.dev20230602\n"
          ]
        },
        {
          "output_type": "display_data",
          "data": {
            "application/vnd.colab-display-data+json": {
              "pip_warning": {
                "packages": [
                  "numpy"
                ]
              }
            }
          },
          "metadata": {}
        }
      ]
    },
    {
      "cell_type": "code",
      "source": [
        "import numpy as np\n",
        "import pandas as pd\n",
        "import tensorflow as tf\n",
        "import math\n",
        "from datetime import datetime, date, timedelta\n",
        "from tensorflow.keras import layers\n",
        "tf.__version__"
      ],
      "metadata": {
        "colab": {
          "base_uri": "https://localhost:8080/",
          "height": 35
        },
        "id": "0MxQiCiBmnhF",
        "outputId": "89dc7ce3-8d6b-448f-ebbf-6b73eee6c6dd"
      },
      "execution_count": null,
      "outputs": [
        {
          "output_type": "execute_result",
          "data": {
            "text/plain": [
              "'2.14.0-dev20230602'"
            ],
            "application/vnd.google.colaboratory.intrinsic+json": {
              "type": "string"
            }
          },
          "metadata": {},
          "execution_count": 5
        }
      ]
    },
    {
      "cell_type": "code",
      "execution_count": null,
      "metadata": {
        "id": "NNv-vpbOmdzk"
      },
      "outputs": [],
      "source": [
        "CC_model=tf.keras.models.load_model('Capability Classifier.keras')"
      ]
    },
    {
      "cell_type": "markdown",
      "source": [
        "##database (temporary)"
      ],
      "metadata": {
        "id": "KdbNP9bKtFkx"
      }
    },
    {
      "cell_type": "code",
      "source": [
        "workout_data = pd.DataFrame({'type': ['push up', 'sit up'],\n",
        "                            'floor': [5, 5],\n",
        "                            'ceil': [13, 15],\n",
        "                            'duration': [10, 10]})"
      ],
      "metadata": {
        "id": "xxM2A7l-O2C_"
      },
      "execution_count": null,
      "outputs": []
    },
    {
      "cell_type": "markdown",
      "source": [
        "##nested function"
      ],
      "metadata": {
        "id": "YzQiljW8tMuR"
      }
    },
    {
      "cell_type": "code",
      "source": [
        "def Binary(G):\n",
        "    if G == 'M':\n",
        "        return 1\n",
        "    elif G == 'F':\n",
        "        return 0\n",
        "\n",
        "def BMI(H,W):\n",
        "        return W/((H/100)**2)\n",
        "\n",
        "def Status(x):\n",
        "    if x < 18.75:\n",
        "        return 'Underweight'\n",
        "    elif x >= 18.75 and x < 25:\n",
        "        return 'Normal'\n",
        "    elif x >= 25 and x < 30:\n",
        "        return 'Overweight'\n",
        "    elif x >= 30 and  x < 40:\n",
        "        return 'Obesity'\n",
        "    elif x >= 40:\n",
        "        return 'Severe Obesity'"
      ],
      "metadata": {
        "id": "iKOS3M8znM_l"
      },
      "execution_count": null,
      "outputs": []
    },
    {
      "cell_type": "markdown",
      "source": [
        "#inputing users data"
      ],
      "metadata": {
        "id": "uAIiU10XGuLr"
      }
    },
    {
      "cell_type": "code",
      "source": [
        "Gender = str(input(\"What's your gender? (M/F): \"))\n",
        "Weight = float(input(\"What's your weight : \"))\n",
        "Height = float(input(\"What's your height: \"))\n",
        "Freq_wo = int(input(\"How frequent would you like your workout to be (3, 4, 5, 6, 7): \"))\n",
        "Day_start = str(input(\"When would you like to start your workout (today, tomorrow): \"))\n",
        "When_wo = str(input(\"When will you available for workout (morning, afternoon, night): \")) "
      ],
      "metadata": {
        "colab": {
          "base_uri": "https://localhost:8080/"
        },
        "id": "U2pM_Um4G0tx",
        "outputId": "d2a57619-7c52-4596-f562-a966a2ee4389"
      },
      "execution_count": null,
      "outputs": [
        {
          "name": "stdout",
          "output_type": "stream",
          "text": [
            "What's your gender? (M/F): M\n",
            "What's your weight : 81\n",
            "What's your height: 177\n",
            "How frequent would you like your workout to be (3, 4, 5, 6, 7): 4\n",
            "When would you like to start your workout (today, tomorrow): tomorrow\n",
            "When will you available for workout (morning, afternoon, night): afternoon\n"
          ]
        }
      ]
    },
    {
      "cell_type": "code",
      "source": [
        "sample = {\n",
        "    'Binary': Binary(Gender),\n",
        "    'Weight': Weight,\n",
        "    'Height': Height,\n",
        "    'BMI': BMI(Height, Weight),\n",
        "    'Status': Status(BMI(Height, Weight)),\n",
        "    'Freq_of_WO': Freq_wo,\n",
        "    'Day_to_start': Day_start,\n",
        "    'When_to_wo': When_wo,\n",
        "}\n",
        "print(sample)"
      ],
      "metadata": {
        "id": "BxkZ3nzuKGNJ",
        "colab": {
          "base_uri": "https://localhost:8080/"
        },
        "outputId": "08e89096-9985-4977-fda5-8f6454d39a20"
      },
      "execution_count": null,
      "outputs": [
        {
          "output_type": "stream",
          "name": "stdout",
          "text": [
            "{'Binary': 1, 'Weight': 81.0, 'Height': 177.0, 'BMI': 25.854639471416256, 'Status': 'Overweight', 'Freq_of_WO': 4, 'Day_to_start': 'tomorrow', 'When_to_wo': 'afternoon'}\n"
          ]
        }
      ]
    },
    {
      "cell_type": "markdown",
      "source": [
        "#schedule generator"
      ],
      "metadata": {
        "id": "hVrmO0HGv0Q4"
      }
    },
    {
      "cell_type": "code",
      "source": [
        "mod_input = {}\n",
        "\n",
        "for name, value in sample.items():\n",
        "    if name in ['Binary', 'Weight', 'Height', 'BMI', 'Status']:\n",
        "        converted_value = tf.convert_to_tensor([value])\n",
        "        mod_input[name] = converted_value\n",
        "\n",
        "predictions = CC_model.predict(mod_input)\n",
        "prob = tf.nn.sigmoid(predictions[0])\n",
        "\n",
        "print(\n",
        "    \"The user has a %.8f percent probability \"\n",
        "    \"of being considered capable.\" % (100 * prob))"
      ],
      "metadata": {
        "id": "yuMNRqYOMmpV",
        "colab": {
          "base_uri": "https://localhost:8080/"
        },
        "outputId": "e992d5f6-f42e-4b1d-db01-71a5f8370c1c"
      },
      "execution_count": null,
      "outputs": [
        {
          "output_type": "stream",
          "name": "stdout",
          "text": [
            "1/1 [==============================] - 0s 33ms/step\n",
            "The user has a 9.72207451 percent probability of being considered capable.\n"
          ]
        }
      ]
    },
    {
      "cell_type": "code",
      "source": [
        "wo_schedule = pd.DataFrame({'exercise.no': range(1, (4*sample.get('Freq_of_WO')+1))})  \n",
        "\n",
        "#FORMULATE PLAN\n",
        "wo_schedule['plan'] = None\n",
        "\n",
        "set_plan = {value: math.ceil(row['floor'] + prob * (row['ceil'] - row['floor']))\n",
        "             for _, row in workout_data.iterrows()\n",
        "             for value in [row['type']]}\n",
        "\n",
        "wo_schedule['plan'] = wo_schedule['plan'].apply(lambda x: set_plan)\n",
        "\n",
        "\n",
        "#FORMULATE SETS\n",
        "wo_schedule['sets'] = wo_schedule['exercise.no'].apply(lambda x: 2 if (x-(x % sample.get('Freq_of_WO')))/sample.get('Freq_of_WO') == 0\n",
        "                                                      else 3 if (x-(x % sample.get('Freq_of_WO')))/sample.get('Freq_of_WO') in [1, 2]\n",
        "                                                      else 4 if (x-(x % sample.get('Freq_of_WO')))/sample.get('Freq_of_WO') in [3, 4]\n",
        "                                                      else None)\n",
        "\n",
        "\n",
        "#FORMULATE DATE\n",
        "wo_schedule['date'] = wo_schedule['exercise.no'].apply(lambda x: round((x-1)*7/sample.get('Freq_of_WO')) if sample.get('Day_to_start') == \"today\"\n",
        "                                                      else round(x*7/sample.get('Freq_of_WO')) if sample.get('Day_to_start') == \"tomorrow\"\n",
        "                                                      else None)\n",
        "wo_schedule['date'] = wo_schedule['date'].apply(lambda x: (date.today() + timedelta(days=x)).strftime(\"%d-%m-%Y\"))\n",
        "\n",
        "\n",
        "#FORMULATE START TIME\n",
        "wo_schedule['start'] = None\n",
        "wo_schedule['start'] = wo_schedule['start'].apply(lambda x: \"07:00\" if sample.get('When_to_wo') == \"morning\"\n",
        "                                                  else \"16:00\" if sample.get('When_to_wo') == \"afternoon\"\n",
        "                                                  else \"19:00\" if sample.get('When_to_wo') == \"night\"\n",
        "                                                  else None)\n",
        "\n",
        "\n",
        "#FORMULATE END TIME\n",
        "wo_schedule['end'] = None\n",
        "for _, row in wo_schedule.iterrows():\n",
        "    end_time = datetime.strptime(row['start'], \"%H:%M\")    \n",
        "    \n",
        "    for exercise in row['plan']:\n",
        "        reps = math.ceil(\n",
        "               workout_data.loc[workout_data['type'] == exercise, 'floor'].values[0] + prob * (\n",
        "               workout_data.loc[workout_data['type'] == exercise, 'ceil'].values[0] - workout_data.loc[workout_data['type'] == exercise, 'floor'].values[0]))\n",
        "        duration = workout_data.loc[workout_data['type'] == exercise, 'duration'].values[0]\n",
        "        sets = row['sets']\n",
        "        interval = int(duration * sets * reps)+ 30*(sets-1) \n",
        "        end_time += timedelta(seconds=interval)\n",
        "    \n",
        "    wo_schedule.at[_, 'end'] = end_time.strftime(\"%H:%M\") \n",
        "\n",
        "wo_schedule.head(4*sample.get('Freq_of_WO')+1)"
      ],
      "metadata": {
        "colab": {
          "base_uri": "https://localhost:8080/",
          "height": 551
        },
        "id": "HSka-boQn_xt",
        "outputId": "60b068ea-6f01-4b86-cf19-f5d61090c5eb"
      },
      "execution_count": null,
      "outputs": [
        {
          "output_type": "execute_result",
          "data": {
            "text/plain": [
              "    exercise.no                         plan  sets        date  start    end\n",
              "0             1  {'push up': 6, 'sit up': 6}     2  04-06-2023  16:00  16:05\n",
              "1             2  {'push up': 6, 'sit up': 6}     2  06-06-2023  16:00  16:05\n",
              "2             3  {'push up': 6, 'sit up': 6}     2  07-06-2023  16:00  16:05\n",
              "3             4  {'push up': 6, 'sit up': 6}     3  09-06-2023  16:00  16:08\n",
              "4             5  {'push up': 6, 'sit up': 6}     3  11-06-2023  16:00  16:08\n",
              "5             6  {'push up': 6, 'sit up': 6}     3  12-06-2023  16:00  16:08\n",
              "6             7  {'push up': 6, 'sit up': 6}     3  14-06-2023  16:00  16:08\n",
              "7             8  {'push up': 6, 'sit up': 6}     3  16-06-2023  16:00  16:08\n",
              "8             9  {'push up': 6, 'sit up': 6}     3  18-06-2023  16:00  16:08\n",
              "9            10  {'push up': 6, 'sit up': 6}     3  20-06-2023  16:00  16:08\n",
              "10           11  {'push up': 6, 'sit up': 6}     3  21-06-2023  16:00  16:08\n",
              "11           12  {'push up': 6, 'sit up': 6}     4  23-06-2023  16:00  16:11\n",
              "12           13  {'push up': 6, 'sit up': 6}     4  25-06-2023  16:00  16:11\n",
              "13           14  {'push up': 6, 'sit up': 6}     4  26-06-2023  16:00  16:11\n",
              "14           15  {'push up': 6, 'sit up': 6}     4  28-06-2023  16:00  16:11\n",
              "15           16  {'push up': 6, 'sit up': 6}     4  30-06-2023  16:00  16:11"
            ],
            "text/html": [
              "\n",
              "  <div id=\"df-af7f6444-ca64-4715-8c48-11d924f3ef09\">\n",
              "    <div class=\"colab-df-container\">\n",
              "      <div>\n",
              "<style scoped>\n",
              "    .dataframe tbody tr th:only-of-type {\n",
              "        vertical-align: middle;\n",
              "    }\n",
              "\n",
              "    .dataframe tbody tr th {\n",
              "        vertical-align: top;\n",
              "    }\n",
              "\n",
              "    .dataframe thead th {\n",
              "        text-align: right;\n",
              "    }\n",
              "</style>\n",
              "<table border=\"1\" class=\"dataframe\">\n",
              "  <thead>\n",
              "    <tr style=\"text-align: right;\">\n",
              "      <th></th>\n",
              "      <th>exercise.no</th>\n",
              "      <th>plan</th>\n",
              "      <th>sets</th>\n",
              "      <th>date</th>\n",
              "      <th>start</th>\n",
              "      <th>end</th>\n",
              "    </tr>\n",
              "  </thead>\n",
              "  <tbody>\n",
              "    <tr>\n",
              "      <th>0</th>\n",
              "      <td>1</td>\n",
              "      <td>{'push up': 6, 'sit up': 6}</td>\n",
              "      <td>2</td>\n",
              "      <td>04-06-2023</td>\n",
              "      <td>16:00</td>\n",
              "      <td>16:05</td>\n",
              "    </tr>\n",
              "    <tr>\n",
              "      <th>1</th>\n",
              "      <td>2</td>\n",
              "      <td>{'push up': 6, 'sit up': 6}</td>\n",
              "      <td>2</td>\n",
              "      <td>06-06-2023</td>\n",
              "      <td>16:00</td>\n",
              "      <td>16:05</td>\n",
              "    </tr>\n",
              "    <tr>\n",
              "      <th>2</th>\n",
              "      <td>3</td>\n",
              "      <td>{'push up': 6, 'sit up': 6}</td>\n",
              "      <td>2</td>\n",
              "      <td>07-06-2023</td>\n",
              "      <td>16:00</td>\n",
              "      <td>16:05</td>\n",
              "    </tr>\n",
              "    <tr>\n",
              "      <th>3</th>\n",
              "      <td>4</td>\n",
              "      <td>{'push up': 6, 'sit up': 6}</td>\n",
              "      <td>3</td>\n",
              "      <td>09-06-2023</td>\n",
              "      <td>16:00</td>\n",
              "      <td>16:08</td>\n",
              "    </tr>\n",
              "    <tr>\n",
              "      <th>4</th>\n",
              "      <td>5</td>\n",
              "      <td>{'push up': 6, 'sit up': 6}</td>\n",
              "      <td>3</td>\n",
              "      <td>11-06-2023</td>\n",
              "      <td>16:00</td>\n",
              "      <td>16:08</td>\n",
              "    </tr>\n",
              "    <tr>\n",
              "      <th>5</th>\n",
              "      <td>6</td>\n",
              "      <td>{'push up': 6, 'sit up': 6}</td>\n",
              "      <td>3</td>\n",
              "      <td>12-06-2023</td>\n",
              "      <td>16:00</td>\n",
              "      <td>16:08</td>\n",
              "    </tr>\n",
              "    <tr>\n",
              "      <th>6</th>\n",
              "      <td>7</td>\n",
              "      <td>{'push up': 6, 'sit up': 6}</td>\n",
              "      <td>3</td>\n",
              "      <td>14-06-2023</td>\n",
              "      <td>16:00</td>\n",
              "      <td>16:08</td>\n",
              "    </tr>\n",
              "    <tr>\n",
              "      <th>7</th>\n",
              "      <td>8</td>\n",
              "      <td>{'push up': 6, 'sit up': 6}</td>\n",
              "      <td>3</td>\n",
              "      <td>16-06-2023</td>\n",
              "      <td>16:00</td>\n",
              "      <td>16:08</td>\n",
              "    </tr>\n",
              "    <tr>\n",
              "      <th>8</th>\n",
              "      <td>9</td>\n",
              "      <td>{'push up': 6, 'sit up': 6}</td>\n",
              "      <td>3</td>\n",
              "      <td>18-06-2023</td>\n",
              "      <td>16:00</td>\n",
              "      <td>16:08</td>\n",
              "    </tr>\n",
              "    <tr>\n",
              "      <th>9</th>\n",
              "      <td>10</td>\n",
              "      <td>{'push up': 6, 'sit up': 6}</td>\n",
              "      <td>3</td>\n",
              "      <td>20-06-2023</td>\n",
              "      <td>16:00</td>\n",
              "      <td>16:08</td>\n",
              "    </tr>\n",
              "    <tr>\n",
              "      <th>10</th>\n",
              "      <td>11</td>\n",
              "      <td>{'push up': 6, 'sit up': 6}</td>\n",
              "      <td>3</td>\n",
              "      <td>21-06-2023</td>\n",
              "      <td>16:00</td>\n",
              "      <td>16:08</td>\n",
              "    </tr>\n",
              "    <tr>\n",
              "      <th>11</th>\n",
              "      <td>12</td>\n",
              "      <td>{'push up': 6, 'sit up': 6}</td>\n",
              "      <td>4</td>\n",
              "      <td>23-06-2023</td>\n",
              "      <td>16:00</td>\n",
              "      <td>16:11</td>\n",
              "    </tr>\n",
              "    <tr>\n",
              "      <th>12</th>\n",
              "      <td>13</td>\n",
              "      <td>{'push up': 6, 'sit up': 6}</td>\n",
              "      <td>4</td>\n",
              "      <td>25-06-2023</td>\n",
              "      <td>16:00</td>\n",
              "      <td>16:11</td>\n",
              "    </tr>\n",
              "    <tr>\n",
              "      <th>13</th>\n",
              "      <td>14</td>\n",
              "      <td>{'push up': 6, 'sit up': 6}</td>\n",
              "      <td>4</td>\n",
              "      <td>26-06-2023</td>\n",
              "      <td>16:00</td>\n",
              "      <td>16:11</td>\n",
              "    </tr>\n",
              "    <tr>\n",
              "      <th>14</th>\n",
              "      <td>15</td>\n",
              "      <td>{'push up': 6, 'sit up': 6}</td>\n",
              "      <td>4</td>\n",
              "      <td>28-06-2023</td>\n",
              "      <td>16:00</td>\n",
              "      <td>16:11</td>\n",
              "    </tr>\n",
              "    <tr>\n",
              "      <th>15</th>\n",
              "      <td>16</td>\n",
              "      <td>{'push up': 6, 'sit up': 6}</td>\n",
              "      <td>4</td>\n",
              "      <td>30-06-2023</td>\n",
              "      <td>16:00</td>\n",
              "      <td>16:11</td>\n",
              "    </tr>\n",
              "  </tbody>\n",
              "</table>\n",
              "</div>\n",
              "      <button class=\"colab-df-convert\" onclick=\"convertToInteractive('df-af7f6444-ca64-4715-8c48-11d924f3ef09')\"\n",
              "              title=\"Convert this dataframe to an interactive table.\"\n",
              "              style=\"display:none;\">\n",
              "        \n",
              "  <svg xmlns=\"http://www.w3.org/2000/svg\" height=\"24px\"viewBox=\"0 0 24 24\"\n",
              "       width=\"24px\">\n",
              "    <path d=\"M0 0h24v24H0V0z\" fill=\"none\"/>\n",
              "    <path d=\"M18.56 5.44l.94 2.06.94-2.06 2.06-.94-2.06-.94-.94-2.06-.94 2.06-2.06.94zm-11 1L8.5 8.5l.94-2.06 2.06-.94-2.06-.94L8.5 2.5l-.94 2.06-2.06.94zm10 10l.94 2.06.94-2.06 2.06-.94-2.06-.94-.94-2.06-.94 2.06-2.06.94z\"/><path d=\"M17.41 7.96l-1.37-1.37c-.4-.4-.92-.59-1.43-.59-.52 0-1.04.2-1.43.59L10.3 9.45l-7.72 7.72c-.78.78-.78 2.05 0 2.83L4 21.41c.39.39.9.59 1.41.59.51 0 1.02-.2 1.41-.59l7.78-7.78 2.81-2.81c.8-.78.8-2.07 0-2.86zM5.41 20L4 18.59l7.72-7.72 1.47 1.35L5.41 20z\"/>\n",
              "  </svg>\n",
              "      </button>\n",
              "      \n",
              "  <style>\n",
              "    .colab-df-container {\n",
              "      display:flex;\n",
              "      flex-wrap:wrap;\n",
              "      gap: 12px;\n",
              "    }\n",
              "\n",
              "    .colab-df-convert {\n",
              "      background-color: #E8F0FE;\n",
              "      border: none;\n",
              "      border-radius: 50%;\n",
              "      cursor: pointer;\n",
              "      display: none;\n",
              "      fill: #1967D2;\n",
              "      height: 32px;\n",
              "      padding: 0 0 0 0;\n",
              "      width: 32px;\n",
              "    }\n",
              "\n",
              "    .colab-df-convert:hover {\n",
              "      background-color: #E2EBFA;\n",
              "      box-shadow: 0px 1px 2px rgba(60, 64, 67, 0.3), 0px 1px 3px 1px rgba(60, 64, 67, 0.15);\n",
              "      fill: #174EA6;\n",
              "    }\n",
              "\n",
              "    [theme=dark] .colab-df-convert {\n",
              "      background-color: #3B4455;\n",
              "      fill: #D2E3FC;\n",
              "    }\n",
              "\n",
              "    [theme=dark] .colab-df-convert:hover {\n",
              "      background-color: #434B5C;\n",
              "      box-shadow: 0px 1px 3px 1px rgba(0, 0, 0, 0.15);\n",
              "      filter: drop-shadow(0px 1px 2px rgba(0, 0, 0, 0.3));\n",
              "      fill: #FFFFFF;\n",
              "    }\n",
              "  </style>\n",
              "\n",
              "      <script>\n",
              "        const buttonEl =\n",
              "          document.querySelector('#df-af7f6444-ca64-4715-8c48-11d924f3ef09 button.colab-df-convert');\n",
              "        buttonEl.style.display =\n",
              "          google.colab.kernel.accessAllowed ? 'block' : 'none';\n",
              "\n",
              "        async function convertToInteractive(key) {\n",
              "          const element = document.querySelector('#df-af7f6444-ca64-4715-8c48-11d924f3ef09');\n",
              "          const dataTable =\n",
              "            await google.colab.kernel.invokeFunction('convertToInteractive',\n",
              "                                                     [key], {});\n",
              "          if (!dataTable) return;\n",
              "\n",
              "          const docLinkHtml = 'Like what you see? Visit the ' +\n",
              "            '<a target=\"_blank\" href=https://colab.research.google.com/notebooks/data_table.ipynb>data table notebook</a>'\n",
              "            + ' to learn more about interactive tables.';\n",
              "          element.innerHTML = '';\n",
              "          dataTable['output_type'] = 'display_data';\n",
              "          await google.colab.output.renderOutput(dataTable, element);\n",
              "          const docLink = document.createElement('div');\n",
              "          docLink.innerHTML = docLinkHtml;\n",
              "          element.appendChild(docLink);\n",
              "        }\n",
              "      </script>\n",
              "    </div>\n",
              "  </div>\n",
              "  "
            ]
          },
          "metadata": {},
          "execution_count": 51
        }
      ]
    }
  ]
}